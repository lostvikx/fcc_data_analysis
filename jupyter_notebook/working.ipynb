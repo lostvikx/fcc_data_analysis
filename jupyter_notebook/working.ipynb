{
 "cells": [
  {
   "cell_type": "markdown",
   "source": [
    "# Crypto - Bitcoin & Ether"
   ],
   "metadata": {}
  },
  {
   "cell_type": "code",
   "execution_count": 2,
   "source": [
    "import pandas as pd\n",
    "import requests\n",
    "import matplotlib.pyplot as plt\n",
    "%matplotlib inline"
   ],
   "outputs": [],
   "metadata": {}
  },
  {
   "cell_type": "markdown",
   "source": [
    "This func will get us the information, price history of btc and eth cryptocurrencies. \n",
    "\n",
    "Args-example: `symbol = \"btc\"`"
   ],
   "metadata": {}
  },
  {
   "cell_type": "code",
   "execution_count": 3,
   "source": [
    "def get_historic_prices(symbol, exchange=\"bitstamp\", after=\"2021-12-25\"):\n",
    "  url = f\"https://api.cryptowat.ch/markets/{exchange}/{symbol}usd/ohlc\"\n",
    "\n",
    "  res = requests.get(url, params={\n",
    "    \"period\": \"3600\",\n",
    "    \"after\": str(int(pd.Timestamp(after).timestamp()))\n",
    "  })\n",
    "\n",
    "  res.raise_for_status()\n",
    "  data = res.json()\n",
    "  \n",
    "  df = pd.DataFrame(data[\"result\"][\"3600\"], columns=[\n",
    "    \"CloseTime\", \"OpenPrice\", \"HighPrice\", \"LowPrice\", \"ClosePrice\", \"Volume\", \"NA\"\n",
    "  ])\n",
    "\n",
    "  # Parse date\n",
    "  df['CloseTime'] = pd.to_datetime(df['CloseTime'], unit='s')\n",
    "  df.set_index('CloseTime', inplace=True)\n",
    "\n",
    "  return df\n"
   ],
   "outputs": [],
   "metadata": {}
  },
  {
   "cell_type": "code",
   "execution_count": 4,
   "source": [
    "btc = get_historic_prices(\"btc\")\n",
    "eth = get_historic_prices(\"eth\")"
   ],
   "outputs": [],
   "metadata": {}
  },
  {
   "cell_type": "markdown",
   "source": [
    "## Bitcoin"
   ],
   "metadata": {}
  },
  {
   "cell_type": "code",
   "execution_count": 11,
   "source": [
    "btc.shape"
   ],
   "outputs": [
    {
     "output_type": "execute_result",
     "data": {
      "text/plain": [
       "(40, 6)"
      ]
     },
     "metadata": {},
     "execution_count": 11
    }
   ],
   "metadata": {}
  },
  {
   "cell_type": "code",
   "execution_count": 5,
   "source": [
    "btc.head()"
   ],
   "outputs": [
    {
     "output_type": "execute_result",
     "data": {
      "text/html": [
       "<div>\n",
       "<style scoped>\n",
       "    .dataframe tbody tr th:only-of-type {\n",
       "        vertical-align: middle;\n",
       "    }\n",
       "\n",
       "    .dataframe tbody tr th {\n",
       "        vertical-align: top;\n",
       "    }\n",
       "\n",
       "    .dataframe thead th {\n",
       "        text-align: right;\n",
       "    }\n",
       "</style>\n",
       "<table border=\"1\" class=\"dataframe\">\n",
       "  <thead>\n",
       "    <tr style=\"text-align: right;\">\n",
       "      <th></th>\n",
       "      <th>OpenPrice</th>\n",
       "      <th>HighPrice</th>\n",
       "      <th>LowPrice</th>\n",
       "      <th>ClosePrice</th>\n",
       "      <th>Volume</th>\n",
       "      <th>NA</th>\n",
       "    </tr>\n",
       "    <tr>\n",
       "      <th>CloseTime</th>\n",
       "      <th></th>\n",
       "      <th></th>\n",
       "      <th></th>\n",
       "      <th></th>\n",
       "      <th></th>\n",
       "      <th></th>\n",
       "    </tr>\n",
       "  </thead>\n",
       "  <tbody>\n",
       "    <tr>\n",
       "      <th>2021-12-25 00:00:00</th>\n",
       "      <td>50775.12</td>\n",
       "      <td>50910.00</td>\n",
       "      <td>50522.45</td>\n",
       "      <td>50841.48</td>\n",
       "      <td>73.487484</td>\n",
       "      <td>3.725840e+06</td>\n",
       "    </tr>\n",
       "    <tr>\n",
       "      <th>2021-12-25 01:00:00</th>\n",
       "      <td>50857.42</td>\n",
       "      <td>51096.89</td>\n",
       "      <td>50656.08</td>\n",
       "      <td>51083.18</td>\n",
       "      <td>55.022424</td>\n",
       "      <td>2.802955e+06</td>\n",
       "    </tr>\n",
       "    <tr>\n",
       "      <th>2021-12-25 02:00:00</th>\n",
       "      <td>51093.58</td>\n",
       "      <td>51123.34</td>\n",
       "      <td>50884.87</td>\n",
       "      <td>51025.94</td>\n",
       "      <td>11.827068</td>\n",
       "      <td>6.035132e+05</td>\n",
       "    </tr>\n",
       "    <tr>\n",
       "      <th>2021-12-25 03:00:00</th>\n",
       "      <td>51019.33</td>\n",
       "      <td>51160.21</td>\n",
       "      <td>50817.37</td>\n",
       "      <td>50817.37</td>\n",
       "      <td>9.747875</td>\n",
       "      <td>4.971601e+05</td>\n",
       "    </tr>\n",
       "    <tr>\n",
       "      <th>2021-12-25 04:00:00</th>\n",
       "      <td>50817.37</td>\n",
       "      <td>50978.99</td>\n",
       "      <td>50733.11</td>\n",
       "      <td>50883.32</td>\n",
       "      <td>6.276232</td>\n",
       "      <td>3.191838e+05</td>\n",
       "    </tr>\n",
       "  </tbody>\n",
       "</table>\n",
       "</div>"
      ],
      "text/plain": [
       "                     OpenPrice  HighPrice  LowPrice  ClosePrice     Volume  \\\n",
       "CloseTime                                                                    \n",
       "2021-12-25 00:00:00   50775.12   50910.00  50522.45    50841.48  73.487484   \n",
       "2021-12-25 01:00:00   50857.42   51096.89  50656.08    51083.18  55.022424   \n",
       "2021-12-25 02:00:00   51093.58   51123.34  50884.87    51025.94  11.827068   \n",
       "2021-12-25 03:00:00   51019.33   51160.21  50817.37    50817.37   9.747875   \n",
       "2021-12-25 04:00:00   50817.37   50978.99  50733.11    50883.32   6.276232   \n",
       "\n",
       "                               NA  \n",
       "CloseTime                          \n",
       "2021-12-25 00:00:00  3.725840e+06  \n",
       "2021-12-25 01:00:00  2.802955e+06  \n",
       "2021-12-25 02:00:00  6.035132e+05  \n",
       "2021-12-25 03:00:00  4.971601e+05  \n",
       "2021-12-25 04:00:00  3.191838e+05  "
      ]
     },
     "metadata": {},
     "execution_count": 5
    }
   ],
   "metadata": {}
  },
  {
   "cell_type": "code",
   "execution_count": 6,
   "source": [
    "btc[\"ClosePrice\"].plot(figsize=(10, 5))"
   ],
   "outputs": [
    {
     "output_type": "execute_result",
     "data": {
      "text/plain": [
       "<AxesSubplot:xlabel='CloseTime'>"
      ]
     },
     "metadata": {},
     "execution_count": 6
    },
    {
     "output_type": "display_data",
     "data": {
      "image/png": "[encoded data removed]",
      "text/plain": [
       "<Figure size 720x360 with 1 Axes>"
      ]
     },
     "metadata": {
      "needs_background": "light"
     }
    }
   ],
   "metadata": {}
  },
  {
   "cell_type": "markdown",
   "source": [
    "## Ether"
   ],
   "metadata": {}
  },
  {
   "cell_type": "code",
   "execution_count": 12,
   "source": [
    "eth.shape"
   ],
   "outputs": [
    {
     "output_type": "execute_result",
     "data": {
      "text/plain": [
       "(40, 6)"
      ]
     },
     "metadata": {},
     "execution_count": 12
    }
   ],
   "metadata": {}
  },
  {
   "cell_type": "code",
   "execution_count": 7,
   "source": [
    "eth.head()"
   ],
   "outputs": [
    {
     "output_type": "execute_result",
     "data": {
      "text/html": [
       "<div>\n",
       "<style scoped>\n",
       "    .dataframe tbody tr th:only-of-type {\n",
       "        vertical-align: middle;\n",
       "    }\n",
       "\n",
       "    .dataframe tbody tr th {\n",
       "        vertical-align: top;\n",
       "    }\n",
       "\n",
       "    .dataframe thead th {\n",
       "        text-align: right;\n",
       "    }\n",
       "</style>\n",
       "<table border=\"1\" class=\"dataframe\">\n",
       "  <thead>\n",
       "    <tr style=\"text-align: right;\">\n",
       "      <th></th>\n",
       "      <th>OpenPrice</th>\n",
       "      <th>HighPrice</th>\n",
       "      <th>LowPrice</th>\n",
       "      <th>ClosePrice</th>\n",
       "      <th>Volume</th>\n",
       "      <th>NA</th>\n",
       "    </tr>\n",
       "    <tr>\n",
       "      <th>CloseTime</th>\n",
       "      <th></th>\n",
       "      <th></th>\n",
       "      <th></th>\n",
       "      <th></th>\n",
       "      <th></th>\n",
       "      <th></th>\n",
       "    </tr>\n",
       "  </thead>\n",
       "  <tbody>\n",
       "    <tr>\n",
       "      <th>2021-12-25 00:00:00</th>\n",
       "      <td>4056.69</td>\n",
       "      <td>4059.49</td>\n",
       "      <td>4020.00</td>\n",
       "      <td>4049.93</td>\n",
       "      <td>496.700058</td>\n",
       "      <td>2.009886e+06</td>\n",
       "    </tr>\n",
       "    <tr>\n",
       "      <th>2021-12-25 01:00:00</th>\n",
       "      <td>4052.45</td>\n",
       "      <td>4070.00</td>\n",
       "      <td>4023.07</td>\n",
       "      <td>4069.19</td>\n",
       "      <td>259.485098</td>\n",
       "      <td>1.050383e+06</td>\n",
       "    </tr>\n",
       "    <tr>\n",
       "      <th>2021-12-25 02:00:00</th>\n",
       "      <td>4071.02</td>\n",
       "      <td>4079.49</td>\n",
       "      <td>4044.63</td>\n",
       "      <td>4058.24</td>\n",
       "      <td>139.167276</td>\n",
       "      <td>5.651613e+05</td>\n",
       "    </tr>\n",
       "    <tr>\n",
       "      <th>2021-12-25 03:00:00</th>\n",
       "      <td>4056.67</td>\n",
       "      <td>4062.93</td>\n",
       "      <td>4033.03</td>\n",
       "      <td>4033.03</td>\n",
       "      <td>127.161788</td>\n",
       "      <td>5.152934e+05</td>\n",
       "    </tr>\n",
       "    <tr>\n",
       "      <th>2021-12-25 04:00:00</th>\n",
       "      <td>4034.86</td>\n",
       "      <td>4047.82</td>\n",
       "      <td>4030.00</td>\n",
       "      <td>4040.87</td>\n",
       "      <td>113.430367</td>\n",
       "      <td>4.577297e+05</td>\n",
       "    </tr>\n",
       "  </tbody>\n",
       "</table>\n",
       "</div>"
      ],
      "text/plain": [
       "                     OpenPrice  HighPrice  LowPrice  ClosePrice      Volume  \\\n",
       "CloseTime                                                                     \n",
       "2021-12-25 00:00:00    4056.69    4059.49   4020.00     4049.93  496.700058   \n",
       "2021-12-25 01:00:00    4052.45    4070.00   4023.07     4069.19  259.485098   \n",
       "2021-12-25 02:00:00    4071.02    4079.49   4044.63     4058.24  139.167276   \n",
       "2021-12-25 03:00:00    4056.67    4062.93   4033.03     4033.03  127.161788   \n",
       "2021-12-25 04:00:00    4034.86    4047.82   4030.00     4040.87  113.430367   \n",
       "\n",
       "                               NA  \n",
       "CloseTime                          \n",
       "2021-12-25 00:00:00  2.009886e+06  \n",
       "2021-12-25 01:00:00  1.050383e+06  \n",
       "2021-12-25 02:00:00  5.651613e+05  \n",
       "2021-12-25 03:00:00  5.152934e+05  \n",
       "2021-12-25 04:00:00  4.577297e+05  "
      ]
     },
     "metadata": {},
     "execution_count": 7
    }
   ],
   "metadata": {}
  },
  {
   "cell_type": "code",
   "execution_count": 16,
   "source": [
    "eth[\"ClosePrice\"].plot(figsize=(10, 5))"
   ],
   "outputs": [
    {
     "output_type": "execute_result",
     "data": {
      "text/plain": [
       "<AxesSubplot:xlabel='CloseTime'>"
      ]
     },
     "metadata": {},
     "execution_count": 16
    },
    {
     "output_type": "display_data",
     "data": {
      "image/png": "[encoded data removed]",
      "text/plain": [
       "<Figure size 720x360 with 1 Axes>"
      ]
     },
     "metadata": {
      "needs_background": "light"
     }
    }
   ],
   "metadata": {}
  },
  {
   "cell_type": "markdown",
   "source": [
    "## Exporting the data to an .xlsx file"
   ],
   "metadata": {}
  },
  {
   "cell_type": "code",
   "execution_count": 18,
   "source": [
    "with pd.ExcelWriter(\"my_crypto.xlsx\") as writer:\n",
    "  btc.to_excel(writer, sheet_name=\"Bitcoin\")\n",
    "  eth.to_excel(writer, sheet_name=\"Ether\")"
   ],
   "outputs": [],
   "metadata": {}
  }
 ],
 "metadata": {
  "orig_nbformat": 4,
  "language_info": {
   "name": "python",
   "version": "3.9.7",
   "mimetype": "text/x-python",
   "codemirror_mode": {
    "name": "ipython",
    "version": 3
   },
   "pygments_lexer": "ipython3",
   "nbconvert_exporter": "python",
   "file_extension": ".py"
  },
  "kernelspec": {
   "name": "python3",
   "display_name": "Python 3.9.7 64-bit"
  },
  "interpreter": {
   "hash": "916dbcbb3f70747c44a77c7bcd40155683ae19c65e1c03b4aa3499c5328201f1"
  }
 },
 "nbformat": 4,
 "nbformat_minor": 2
}